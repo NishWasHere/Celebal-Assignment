{
  "nbformat": 4,
  "nbformat_minor": 0,
  "metadata": {
    "colab": {
      "provenance": [],
      "authorship_tag": "ABX9TyNww6ehP8TclXH01pSF2Ota",
      "include_colab_link": true
    },
    "kernelspec": {
      "name": "python3",
      "display_name": "Python 3"
    },
    "language_info": {
      "name": "python"
    }
  },
  "cells": [
    {
      "cell_type": "markdown",
      "metadata": {
        "id": "view-in-github",
        "colab_type": "text"
      },
      "source": [
        "<a href=\"https://colab.research.google.com/github/NishWasHere/Celebal-Assignment/blob/main/Week6_ModelEval_Tuning.ipynb\" target=\"_parent\"><img src=\"https://colab.research.google.com/assets/colab-badge.svg\" alt=\"Open In Colab\"/></a>"
      ]
    },
    {
      "cell_type": "code",
      "execution_count": 1,
      "metadata": {
        "id": "Nwidlzs39muI"
      },
      "outputs": [],
      "source": [
        "# Step 1: Import Libraries\n",
        "import pandas as pd\n",
        "import numpy as np\n",
        "\n",
        "from sklearn.model_selection import train_test_split, GridSearchCV, RandomizedSearchCV\n",
        "from sklearn.preprocessing import StandardScaler\n",
        "from sklearn.metrics import accuracy_score, precision_score, recall_score, f1_score\n",
        "from sklearn.linear_model import LogisticRegression\n",
        "from sklearn.ensemble import RandomForestClassifier\n",
        "from sklearn.svm import SVC\n",
        "\n",
        "from sklearn.datasets import load_breast_cancer  # For demonstration\n"
      ]
    },
    {
      "cell_type": "code",
      "source": [
        "# Step 2: Load Data (using breast cancer dataset for classification demo)\n",
        "data = load_breast_cancer()\n",
        "X = pd.DataFrame(data.data, columns=data.feature_names)\n",
        "y = pd.Series(data.target)\n",
        "\n",
        "# Step 3: Train-Test Split\n",
        "X_train, X_test, y_train, y_test = train_test_split(X, y, test_size=0.2, random_state=42)\n",
        "\n",
        "# Step 4: Scale the data (important for some models like SVM)\n",
        "scaler = StandardScaler()\n",
        "X_train_scaled = scaler.fit_transform(X_train)\n",
        "X_test_scaled = scaler.transform(X_test)\n"
      ],
      "metadata": {
        "id": "8S05DNlL-MzA"
      },
      "execution_count": 2,
      "outputs": []
    },
    {
      "cell_type": "code",
      "source": [
        "# Step 5: Define Models\n",
        "models = {\n",
        "    'Logistic Regression': LogisticRegression(),\n",
        "    'Random Forest': RandomForestClassifier(),\n",
        "    'SVM': SVC()\n",
        "}\n"
      ],
      "metadata": {
        "id": "UEKBygy7-S-G"
      },
      "execution_count": 3,
      "outputs": []
    },
    {
      "cell_type": "code",
      "source": [
        "# Step 6: Train and Evaluate Models\n",
        "def evaluate_model(name, model, X_train, X_test, y_train, y_test):\n",
        "    model.fit(X_train, y_train)\n",
        "    y_pred = model.predict(X_test)\n",
        "\n",
        "    print(f\"--- {name} ---\")\n",
        "    print(f\"Accuracy : {accuracy_score(y_test, y_pred):.4f}\")\n",
        "    print(f\"Precision: {precision_score(y_test, y_pred):.4f}\")\n",
        "    print(f\"Recall   : {recall_score(y_test, y_pred):.4f}\")\n",
        "    print(f\"F1-Score : {f1_score(y_test, y_pred):.4f}\")\n",
        "    print()\n",
        "\n",
        "for name, model in models.items():\n",
        "    if name == 'SVM':\n",
        "        evaluate_model(name, model, X_train_scaled, X_test_scaled, y_train, y_test)\n",
        "    else:\n",
        "        evaluate_model(name, model, X_train, X_test, y_train, y_test)\n"
      ],
      "metadata": {
        "colab": {
          "base_uri": "https://localhost:8080/"
        },
        "id": "qo9L3Jl6-WDu",
        "outputId": "44370e70-0b9c-429d-fdfc-4d2313c497b4"
      },
      "execution_count": 4,
      "outputs": [
        {
          "output_type": "stream",
          "name": "stdout",
          "text": [
            "--- Logistic Regression ---\n",
            "Accuracy : 0.9561\n",
            "Precision: 0.9459\n",
            "Recall   : 0.9859\n",
            "F1-Score : 0.9655\n",
            "\n",
            "--- Random Forest ---\n",
            "Accuracy : 0.9561\n",
            "Precision: 0.9583\n",
            "Recall   : 0.9718\n",
            "F1-Score : 0.9650\n",
            "\n",
            "--- SVM ---\n",
            "Accuracy : 0.9825\n",
            "Precision: 0.9726\n",
            "Recall   : 1.0000\n",
            "F1-Score : 0.9861\n",
            "\n"
          ]
        }
      ]
    },
    {
      "cell_type": "code",
      "source": [
        "# Step 7: Hyperparameter Tuning - GridSearchCV (for Random Forest)\n",
        "param_grid_rf = {\n",
        "    'n_estimators': [50, 100],\n",
        "    'max_depth': [None, 5, 10],\n",
        "    'min_samples_split': [2, 5],\n",
        "}\n",
        "\n",
        "grid_rf = GridSearchCV(RandomForestClassifier(), param_grid_rf, cv=3, scoring='accuracy')\n",
        "grid_rf.fit(X_train, y_train)\n",
        "\n",
        "print(\"Best Random Forest Params (GridSearchCV):\", grid_rf.best_params_)\n",
        "best_rf = grid_rf.best_estimator_\n",
        "evaluate_model(\"Random Forest (Tuned)\", best_rf, X_train, X_test, y_train, y_test)\n"
      ],
      "metadata": {
        "colab": {
          "base_uri": "https://localhost:8080/"
        },
        "id": "PJplVGId-ZBd",
        "outputId": "b0490308-8c0b-4af1-dd32-e05f284c262c"
      },
      "execution_count": 5,
      "outputs": [
        {
          "output_type": "stream",
          "name": "stdout",
          "text": [
            "Best Random Forest Params (GridSearchCV): {'max_depth': None, 'min_samples_split': 2, 'n_estimators': 50}\n",
            "--- Random Forest (Tuned) ---\n",
            "Accuracy : 0.9649\n",
            "Precision: 0.9589\n",
            "Recall   : 0.9859\n",
            "F1-Score : 0.9722\n",
            "\n"
          ]
        }
      ]
    },
    {
      "cell_type": "code",
      "source": [
        "# Step 8: Hyperparameter Tuning - RandomizedSearchCV (for SVM)\n",
        "param_dist_svm = {\n",
        "    'C': [0.1, 1, 10, 100],\n",
        "    'gamma': ['scale', 0.01, 0.1, 1],\n",
        "    'kernel': ['rbf', 'linear']\n",
        "}\n",
        "\n",
        "rand_svm = RandomizedSearchCV(SVC(), param_dist_svm, n_iter=5, cv=3, scoring='accuracy', random_state=42)\n",
        "rand_svm.fit(X_train_scaled, y_train)\n",
        "\n",
        "print(\"Best SVM Params (RandomizedSearchCV):\", rand_svm.best_params_)\n",
        "best_svm = rand_svm.best_estimator_\n",
        "evaluate_model(\"SVM (Tuned)\", best_svm, X_train_scaled, X_test_scaled, y_train, y_test)\n"
      ],
      "metadata": {
        "colab": {
          "base_uri": "https://localhost:8080/"
        },
        "id": "ezA1qR3d-fV-",
        "outputId": "fce43d47-758a-4047-c36a-9d107d08ae78"
      },
      "execution_count": 6,
      "outputs": [
        {
          "output_type": "stream",
          "name": "stdout",
          "text": [
            "Best SVM Params (RandomizedSearchCV): {'kernel': 'rbf', 'gamma': 'scale', 'C': 1}\n",
            "--- SVM (Tuned) ---\n",
            "Accuracy : 0.9825\n",
            "Precision: 0.9726\n",
            "Recall   : 1.0000\n",
            "F1-Score : 0.9861\n",
            "\n"
          ]
        }
      ]
    }
  ]
}