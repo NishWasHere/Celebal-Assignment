{
  "nbformat": 4,
  "nbformat_minor": 0,
  "metadata": {
    "colab": {
      "provenance": [],
      "mount_file_id": "1ABI0WOwFJTsujRQJiOoaNBOH3AqNnwUb",
      "authorship_tag": "ABX9TyM1MiZcRlkOM6UAAnGTAHyB",
      "include_colab_link": true
    },
    "kernelspec": {
      "name": "python3",
      "display_name": "Python 3"
    },
    "language_info": {
      "name": "python"
    }
  },
  "cells": [
    {
      "cell_type": "markdown",
      "metadata": {
        "id": "view-in-github",
        "colab_type": "text"
      },
      "source": [
        "<a href=\"https://colab.research.google.com/github/NishWasHere/Celebal-Assignment/blob/main/Week5_House_Price_Prediction.ipynb\" target=\"_parent\"><img src=\"https://colab.research.google.com/assets/colab-badge.svg\" alt=\"Open In Colab\"/></a>"
      ]
    },
    {
      "cell_type": "code",
      "source": [
        "import pandas as pd\n",
        "import numpy as np\n",
        "from sklearn.model_selection import train_test_split\n",
        "from sklearn.linear_model import Ridge\n",
        "from sklearn.metrics import mean_squared_error\n",
        "from sklearn.preprocessing import LabelEncoder\n",
        "\n",
        "# Load data\n",
        "train = pd.read_csv(\"train.csv\")\n",
        "test = pd.read_csv(\"test.csv\")\n",
        "\n",
        "# Save and drop IDs\n",
        "train_ID = train['Id']\n",
        "test_ID = test['Id']\n",
        "train.drop(\"Id\", axis=1, inplace=True)\n",
        "test.drop(\"Id\", axis=1, inplace=True)\n",
        "\n",
        "# Save target and drop from train\n",
        "y = train[\"SalePrice\"]\n",
        "train.drop(\"SalePrice\", axis=1, inplace=True)\n",
        "\n",
        "# Combine train and test for uniform preprocessing\n",
        "all_data = pd.concat([train, test], axis=0, ignore_index=True)\n",
        "\n",
        "# Handle missing values\n",
        "for col in ['PoolQC', 'MiscFeature', 'Alley', 'Fence', 'FireplaceQu', 'GarageType',\n",
        "            'GarageFinish', 'GarageQual', 'GarageCond', 'BsmtQual', 'BsmtCond',\n",
        "            'BsmtExposure', 'BsmtFinType1', 'BsmtFinType2', 'MasVnrType']:\n",
        "    all_data[col] = all_data[col].fillna(\"None\")\n",
        "\n",
        "for col in ['GarageYrBlt', 'GarageArea', 'GarageCars', 'BsmtFinSF1', 'BsmtFinSF2',\n",
        "            'BsmtUnfSF', 'TotalBsmtSF', 'BsmtFullBath', 'BsmtHalfBath', 'MasVnrArea',\n",
        "            'LotFrontage']:\n",
        "    all_data[col] = all_data[col].fillna(all_data[col].median())\n",
        "\n",
        "# Convert to string (categorical)\n",
        "for col in ['MSSubClass', 'YrSold', 'MoSold']:\n",
        "    all_data[col] = all_data[col].astype(str)\n",
        "\n",
        "# Label Encoding for ordinal variables\n",
        "label_cols = ['ExterQual', 'BsmtQual', 'KitchenQual', 'HeatingQC', 'FireplaceQu',\n",
        "              'GarageQual', 'GarageCond', 'PoolQC', 'BsmtCond', 'BsmtExposure',\n",
        "              'BsmtFinType1', 'BsmtFinType2', 'Functional', 'Fence']\n",
        "\n",
        "for col in label_cols:\n",
        "    lbl = LabelEncoder()\n",
        "    all_data[col] = lbl.fit_transform(all_data[col].astype(str))\n",
        "\n",
        "# Add new features\n",
        "all_data['TotalSF'] = all_data['TotalBsmtSF'] + all_data['1stFlrSF'] + all_data['2ndFlrSF']\n",
        "all_data['TotalBath'] = (all_data['FullBath'] + 0.5 * all_data['HalfBath'] +\n",
        "                         all_data['BsmtFullBath'] + 0.5 * all_data['BsmtHalfBath'])\n",
        "\n",
        "# One-hot encoding\n",
        "all_data = pd.get_dummies(all_data)\n",
        "\n",
        "# Separate back\n",
        "X = all_data[:len(y)]\n",
        "X_test = all_data[len(y):]\n",
        "\n",
        "# Log transform the target\n",
        "y_log = np.log1p(y)\n",
        "\n",
        "# Split for validation\n",
        "X_train, X_valid, y_train, y_valid = train_test_split(X, y_log, test_size=0.2, random_state=42)\n",
        "\n",
        "# Train Ridge Regression model\n",
        "model = Ridge(alpha=10)\n",
        "model.fit(X_train, y_train)\n",
        "\n",
        "# Validate\n",
        "y_pred = model.predict(X_valid)\n",
        "rmse = np.sqrt(mean_squared_error(y_valid, y_pred))\n",
        "print(f\"Validation RMSE: {rmse:.4f}\")\n",
        "\n",
        "# Predict on test and inverse log transform\n",
        "final_preds = model.predict(X_test)\n",
        "final_preds = np.expm1(final_preds)\n",
        "\n",
        "# Create submission file\n",
        "submission = pd.DataFrame({\n",
        "    \"Id\": test_ID,\n",
        "    \"SalePrice\": final_preds\n",
        "})\n",
        "submission.to_csv(\"submission.csv\", index=False)\n",
        "print(\"✅ Submission file created: submission.csv\")\n"
      ],
      "metadata": {
        "colab": {
          "base_uri": "https://localhost:8080/"
        },
        "id": "x_F2WYqM707D",
        "outputId": "789c1b89-5bcc-48d9-ed8d-452ffac843d1"
      },
      "execution_count": 10,
      "outputs": [
        {
          "output_type": "stream",
          "name": "stdout",
          "text": [
            "Validation RMSE: 0.1396\n",
            "✅ Submission file created: submission.csv\n"
          ]
        }
      ]
    }
  ]
}